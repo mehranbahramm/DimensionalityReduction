{
  "nbformat": 4,
  "nbformat_minor": 0,
  "metadata": {
    "colab": {
      "provenance": []
    },
    "kernelspec": {
      "name": "python3",
      "display_name": "Python 3"
    },
    "language_info": {
      "name": "python"
    }
  },
  "cells": [
    {
      "cell_type": "code",
      "execution_count": 1,
      "metadata": {
        "id": "3HBWBZb4VkNP"
      },
      "outputs": [],
      "source": [
        "import numpy as np\n",
        "import matplotlib.pyplot as plt\n",
        "import seaborn as sns\n",
        "\n",
        "from sklearn.datasets import fetch_openml\n",
        "from sklearn.decomposition import PCA\n",
        "from sklearn.preprocessing import StandardScaler\n",
        "from sklearn.model_selection import train_test_split\n",
        "from sklearn.ensemble import RandomForestClassifier\n",
        "from sklearn.metrics import accuracy_score,classification_report"
      ]
    },
    {
      "cell_type": "code",
      "source": [
        "# Load MNIST data\n",
        "mnist = fetch_openml('mnist_784',version=1)\n",
        "x,y = mnist[\"data\"].to_numpy(),mnist[\"target\"].to_numpy()\n",
        "\n",
        "# Convert labels to integers\n",
        "y=y.astype(np.int8)"
      ],
      "metadata": {
        "id": "n_aumPtjWf2V"
      },
      "execution_count": 3,
      "outputs": []
    },
    {
      "cell_type": "code",
      "source": [
        "def plot_mnist_image(images,labels,num_images=5):\n",
        "  plt.figure(figsize=(20,12))\n",
        "\n",
        "  for i in range(num_images):\n",
        "    plt.subplot(1,num_images,i+1)\n",
        "    plt.imshow(images[i].reshape(28,28),cmap=\"gray\")\n",
        "    plt.title(f\"Label: {labels[i]}\")\n",
        "    plt.axis('off')\n",
        "  plt.show()\n",
        "\n",
        "# Select the first three images and labels\n",
        "num_images_to_display = 5\n",
        "images_to_display = x[:num_images_to_display]\n",
        "label_to_display = y[:num_images_to_display]\n",
        "\n",
        "# Plot the images\n",
        "plot_mnist_image(images_to_display,label_to_display,num_images=5)"
      ],
      "metadata": {
        "colab": {
          "base_uri": "https://localhost:8080/",
          "height": 299
        },
        "id": "dQY6GIunXi_7",
        "outputId": "03e844dd-a262-4545-bb48-c44ec51edc3e"
      },
      "execution_count": 16,
      "outputs": [
        {
          "output_type": "display_data",
          "data": {
            "text/plain": [
              "<Figure size 2000x1200 with 5 Axes>"
            ],
            "image/png": "[encoded data removed]"
          },
          "metadata": {}
        }
      ]
    },
    {
      "cell_type": "code",
      "source": [
        "# Split the data into training and test sets\n",
        "x_train,x_test,y_train,y_test = train_test_split(x,y,test_size=0.1,random_state=42)"
      ],
      "metadata": {
        "id": "foxByG3oi9GG"
      },
      "execution_count": 18,
      "outputs": []
    },
    {
      "cell_type": "code",
      "source": [
        "# Standardize the features\n",
        "sc=StandardScaler()\n",
        "x_train_sc=sc.fit_transform(x_train)\n",
        "x_test_sc=sc.transform(x_test)"
      ],
      "metadata": {
        "id": "aJcfEbHFhUHM"
      },
      "execution_count": 19,
      "outputs": []
    },
    {
      "cell_type": "code",
      "source": [
        "#1-Initialize PCA\n",
        "pca=PCA()\n",
        "\n",
        "#2-Fit PCA on the scaled training data\n",
        "pca.fit(x_train_sc)\n",
        "\n",
        "#3-Calculate the explained variance ratio\n",
        "explained_variance_ratio=pca.explained_variance_ratio_\n",
        "\n",
        "\n",
        "\n"
      ],
      "metadata": {
        "id": "iGvfIgxNjrhI"
      },
      "execution_count": 20,
      "outputs": []
    }
  ]
}